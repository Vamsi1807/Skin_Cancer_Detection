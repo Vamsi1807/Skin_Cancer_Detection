{
 "cells": [
  {
   "cell_type": "code",
   "execution_count": 1,
   "id": "b5027254-685e-4ca7-8adf-d146a7b1f7ec",
   "metadata": {},
   "outputs": [
    {
     "name": "stdout",
     "output_type": "stream",
     "text": [
      "True\n",
      "NVIDIA GeForce RTX 3050 6GB Laptop GPU\n"
     ]
    }
   ],
   "source": [
    "import torch\n",
    "print(torch.cuda.is_available())\n",
    "print(torch.cuda.get_device_name(0))\n"
   ]
  },
  {
   "cell_type": "code",
   "execution_count": 2,
   "id": "d3275907-4347-4145-afde-7c4563968c3b",
   "metadata": {},
   "outputs": [],
   "source": [
    "PROJECT_DIR = r\"C:\\Users\\vamsi\\Desktop\\4-1 mini project\\skin-cancer-detection\"\n",
    "csv_file = f\"{PROJECT_DIR}\\\\data\\\\ham10000\\\\HAM10000_metadata.csv\"\n",
    "img_dir  = f\"{PROJECT_DIR}\\\\data\\\\ham10000\\\\images\""
   ]
  },
  {
   "cell_type": "code",
   "execution_count": null,
   "id": "114023b0-1257-43c0-b752-86430a05d996",
   "metadata": {},
   "outputs": [],
   "source": [
    "# put this in one cell\n",
    "import os, random\n",
    "import numpy as np\n",
    "import pandas as pd\n",
    "from PIL import Image\n",
    "from sklearn.model_selection import GroupShuffleSplit\n",
    "import albumentations as A\n",
    "from albumentations.pytorch import ToTensorV2\n",
    "import torch\n",
    "from torch.utils.data import Dataset, DataLoader, WeightedRandomSampler\n",
    "\n",
    "# reproducible\n",
    "seed = 42\n",
    "random.seed(seed); np.random.seed(seed); torch.manual_seed(seed)\n",
    "\n",
    "\n",
    "df = pd.read_csv(csv_file)\n",
    "# check common columns\n",
    "print(df.columns.tolist())\n",
    "# ensure patient_id exists; if not, fallback to random split\n",
    "if 'patient_id' not in df.columns:\n",
    "    df['patient_id'] = df['image_id']  # conservative fallback\n",
    "\n",
    "label_map = {'nv':0,'mel':1,'bkl':2,'bcc':3,'akiec':4,'vasc':5,'df':6}\n",
    "df['label'] = df['dx'].map(label_map)\n",
    "assert df['label'].isnull().sum()==0, \"Unmapped dx found.\"\n",
    "\n",
    "# patient-level split\n",
    "gss = GroupShuffleSplit(n_splits=1, test_size=0.10, random_state=seed)\n",
    "train_idx, val_idx = next(gss.split(df, groups=df['patient_id']))\n",
    "train_df = df.iloc[train_idx].reset_index(drop=True)\n",
    "val_df   = df.iloc[val_idx].reset_index(drop=True)\n",
    "print(\"train/val sizes:\", len(train_df), len(val_df))\n",
    "\n",
    "# transforms (ImageNet mean/std)\n",
    "train_transform = A.Compose([\n",
    "    A.RandomResizedCrop((224,224), scale=(0.8,1.0), p=1.0),\n",
    "    A.HorizontalFlip(p=0.5),\n",
    "    A.VerticalFlip(p=0.2),\n",
    "    A.ShiftScaleRotate(shift_limit=0.0625, scale_limit=0.1, rotate_limit=20, p=0.5),\n",
    "    A.ColorJitter(p=0.2),\n",
    "    A.Normalize(mean=(0.485,0.456,0.406), std=(0.229,0.224,0.225)),\n",
    "    ToTensorV2(),\n",
    "])\n",
    "\n",
    "print(\"debug 1\")\n",
    "\n",
    "val_transform = A.Compose([\n",
    "    A.Resize(224,224),\n",
    "    A.Normalize(mean=(0.485,0.456,0.406), std=(0.229,0.224,0.225)),\n",
    "    ToTensorV2(),\n",
    "])\n",
    "\n",
    "print(\"debug 2\")\n",
    "\n",
    "class HAM10000Dataset(Dataset):\n",
    "    def __init__(self, df, img_dir, transform=None):\n",
    "        self.df = df\n",
    "        self.img_dir = img_dir\n",
    "        self.transform = transform\n",
    "    def __len__(self):\n",
    "        return len(self.df)\n",
    "    def __getitem__(self, idx):\n",
    "        row = self.df.iloc[idx]\n",
    "        img_path = os.path.join(self.img_dir, row['image_id'] + '.jpg')\n",
    "        image = Image.open(img_path).convert(\"RGB\")\n",
    "        image = np.array(image)\n",
    "        label = int(row['label'])\n",
    "        if self.transform:\n",
    "            image = self.transform(image=image)['image']\n",
    "        return image, label\n",
    "\n",
    "print(\"debug 3\")\n",
    "\n",
    "train_ds = HAM10000Dataset(train_df, img_dir, transform=train_transform)\n",
    "val_ds   = HAM10000Dataset(val_df, img_dir, transform=val_transform)\n",
    "\n",
    "print(\"debug 4\")\n",
    "\n",
    "# weighted sampler to address imbalance\n",
    "counts = train_df['label'].value_counts().sort_index().values\n",
    "class_weights = 1.0 / counts\n",
    "sample_weights = class_weights[train_df['label'].values]\n",
    "sampler = WeightedRandomSampler(weights=sample_weights, num_samples=len(sample_weights), replacement=True)\n",
    "\n",
    "print(\"debug 5\")\n",
    "\n",
    "train_loader = DataLoader(train_ds, batch_size=32, sampler=sampler, num_workers=0, pin_memory=True)\n",
    "val_loader   = DataLoader(val_ds, batch_size=32, shuffle=False, num_workers=0, pin_memory=True)\n",
    "\n",
    "print(\"debug 6\")\n",
    "\n",
    "# quick sanity check - inspect one batch\n",
    "batch = next(iter(train_loader))\n",
    "print(\"debug 6.1\")\n",
    "images, labels = batch\n",
    "\n",
    "print(\"debug 7\")\n",
    "\n",
    "print('images.shape:', images.shape)   # [B, C, H, W]\n",
    "print('labels.shape:', labels.shape)\n",
    "print('example labels:', labels[:10])\n"
   ]
  },
  {
   "cell_type": "code",
   "execution_count": null,
   "id": "c8361f2d-261e-4dd2-88a2-b16f70ae659d",
   "metadata": {},
   "outputs": [],
   "source": [
    "device = torch.device(\"cuda\" if torch.cuda.is_available() else \"cpu\")\n",
    "print(device)"
   ]
  },
  {
   "cell_type": "code",
   "execution_count": null,
   "id": "a849baee-2af8-4033-8de6-675c00ac8564",
   "metadata": {},
   "outputs": [],
   "source": []
  }
 ],
 "metadata": {
  "kernelspec": {
   "display_name": "Python 3 (ipykernel)",
   "language": "python",
   "name": "python3"
  },
  "language_info": {
   "codemirror_mode": {
    "name": "ipython",
    "version": 3
   },
   "file_extension": ".py",
   "mimetype": "text/x-python",
   "name": "python",
   "nbconvert_exporter": "python",
   "pygments_lexer": "ipython3",
   "version": "3.10.0"
  }
 },
 "nbformat": 4,
 "nbformat_minor": 5
}
